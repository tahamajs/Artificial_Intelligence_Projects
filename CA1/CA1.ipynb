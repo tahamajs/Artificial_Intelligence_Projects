{
 "cells": [
  {
   "cell_type": "markdown",
   "id": "dbc86545cbac2d6a",
   "metadata": {
    "collapsed": false
   },
   "source": [
    "# Artificial Intelligence Course 2023 \n",
    "Exersice 1 - Genetic Algorithm - KnapSack Problem\n",
    "\n",
    "# Mohammad Taha Majlesi \n",
    "810101504\n",
    "\n"
   ]
  },
  {
   "cell_type": "markdown",
   "id": "6238f478789f07d2",
   "metadata": {
    "collapsed": false
   },
   "source": [
    "<html>\n",
    "<div style=\"background-image: linear-gradient(to left, rgb(255, 255, 255), rgb(138, 136, 136)); width: 600px; vertical-align: middle; height: 40px; margin: 10px;\">\n",
    "<h1 style=\"font-family: Georgia; color: white;\">Artificial Intelligence Course 2023  CA1 </h1>\n",
    "</div>\n",
    "<div style=\"background-image: linear-gradient(to left, rgb(255, 255, 255), rgb(138, 136, 136)); width: 500px; margin: 10px;\">\n",
    "  <img src=\"https://upload.wikimedia.org/wikipedia/en/thumb/f/fd/University_of_Tehran_logo.svg/225px-University_of_Tehran_logo.svg.png\" width=60px width=auto style=\"padding:10px; vertical-align: middle;\">\n",
    "  <span style=\"font-family: Georgia; font-size:30px; color: black;\">University of Tehran </span>\n",
    "</div>\n",
    "<div style=\" background-image: linear-gradient(to left, rgb(255, 255, 255), rgb(138, 136, 136)); width: 400px; height: 30px; margin: 10px;\">\n",
    "  <span style=\"font-family: Georgia; font-size:15pt; color: black; vertical-align: middle;\">Taha Majlesi - std id: 810101504 </span>\n",
    "</div>\n",
    "</html>"
   ]
  },
  {
   "cell_type": "markdown",
   "id": "b615e10a249d8444",
   "metadata": {
    "collapsed": false
   },
   "source": [
    "## Introduction\n",
    "\n",
    "![](Screenshot%202024-03-05%20at%201.18.58%E2%80%AFAM.png)"
   ]
  },
  {
   "cell_type": "markdown",
   "id": "fa7aa63661372f6b",
   "metadata": {
    "collapsed": false
   },
   "source": [
    "## Explanation\n",
    "\n",
    "![](Screenshot%202024-03-05%20at%201.19.47%E2%80%AFAM.png)"
   ]
  },
  {
   "cell_type": "markdown",
   "id": "247f3869afaecce8",
   "metadata": {
    "collapsed": false
   },
   "source": [
    "## reading the CSV file\n",
    "\n",
    "At first we need read CSV file and convert it to a list of dictionaries. \n",
    "Then we can use this list to create our population.\n"
   ]
  },
  {
   "cell_type": "code",
   "execution_count": 762,
   "id": "7fa46c2c8f663304",
   "metadata": {
    "ExecuteTime": {
     "end_time": "2024-03-07T06:48:08.024796Z",
     "start_time": "2024-03-07T06:48:08.016049Z"
    },
    "collapsed": false
   },
   "outputs": [],
   "source": [
    "import csv\n",
    "\n",
    "def read_csv(file_name):\n",
    "    with open(file_name, mode='r') as file:\n",
    "        csv_reader = csv.reader(file)\n",
    "        data = []\n",
    "        csv_reader.__next__()\n",
    "        for row in csv_reader:\n",
    "            data.append((row[0], int(row[1]), int(row[2])))\n",
    "    return data\n"
   ]
  },
  {
   "cell_type": "markdown",
   "id": "d18920cd6d146b34",
   "metadata": {
    "collapsed": false
   },
   "source": [
    "Show the items in the CSV file by plotting them."
   ]
  },
  {
   "cell_type": "code",
   "execution_count": 654,
   "id": "c483dfb0713190e2",
   "metadata": {
    "ExecuteTime": {
     "end_time": "2024-03-07T06:33:30.209875Z",
     "start_time": "2024-03-07T06:33:30.085265Z"
    },
    "collapsed": false
   },
   "outputs": [
    {
     "data": {
      "image/png": "[encoded data removed]",
      "text/plain": [
       "<Figure size 640x480 with 1 Axes>"
      ]
     },
     "metadata": {},
     "output_type": "display_data"
    }
   ],
   "source": [
    "items = read_csv('snacks.csv')\n",
    "\n",
    "\n",
    "def plot_items(items):\n",
    "    x = [item[1] for item in items]\n",
    "    y = [item[2] for item in items]\n",
    "    plt.scatter(x, y)\n",
    "    plt.xlabel('Weight')\n",
    "    plt.ylabel('Value')\n",
    "    plt.show()\n",
    "\n",
    "plot_items(items)"
   ]
  },
  {
   "cell_type": "code",
   "execution_count": 655,
   "id": "7208d33f84bd6d1d",
   "metadata": {
    "ExecuteTime": {
     "end_time": "2024-03-07T06:33:30.230743Z",
     "start_time": "2024-03-07T06:33:30.214731Z"
    },
    "collapsed": false
   },
   "outputs": [
    {
     "name": "stdout",
     "output_type": "stream",
     "text": [
      " .   MazMaz 10 10\n",
      " .   Doogh-e-Abali 15 10\n",
      " .   Nani 5 5\n",
      " .   Jooj 7 15\n",
      " .   Hot-Dog 20 15\n",
      " .   Chips 8 6\n",
      " .   Nooshaba 12 8\n",
      " .   Shokolat 6 7\n",
      " .   Chocoroll 9 12\n",
      " .   Cookies 11 11\n",
      " .   Abnabat 4 4\n",
      " .   Adams-Khersi 14 9\n",
      " .   Popcorn 16 13\n",
      " .   Pastil 3 7\n",
      " .   Tordilla 10 9\n",
      " .   Masghati 5 6\n",
      " .   Ghottab 7 10\n",
      " .   Saghe-Talaei 9 11\n",
      " .   Choob-Shoor 13 12\n"
     ]
    }
   ],
   "source": [
    "for item in items:\n",
    "    print(' .  ',item[0] , item[1] , item[2])"
   ]
  },
  {
   "cell_type": "markdown",
   "id": "e5f083cf5ac9d169",
   "metadata": {
    "collapsed": false
   },
   "source": [
    "## Define DNA class\n",
    "\n",
    "\n",
    "Define DNA by class  for each item in the list.\n",
    "this class contain the weight , value , name and proportion of each item and some methods to compare and hash the items."
   ]
  },
  {
   "cell_type": "code",
   "execution_count": 763,
   "id": "deb07dabccf672a2",
   "metadata": {
    "ExecuteTime": {
     "end_time": "2024-03-07T06:48:43.873941Z",
     "start_time": "2024-03-07T06:48:43.846267Z"
    },
    "collapsed": false
   },
   "outputs": [],
   "source": [
    "class DNA :\n",
    "    def __init__(self, weight , value ,name ,proportion):\n",
    "        self.proportion = proportion\n",
    "        self.name = name\n",
    "        self.value = value\n",
    "        self.weight = weight\n",
    "    \n",
    "    def __str__(self):\n",
    "        return f'{self.name} : {self.proportion}'\n",
    "    \n",
    "    def __repr__(self):\n",
    "        return f'{self.name} : {self.proportion}'\n",
    "    \n",
    "    def __eq__(self, other):\n",
    "        return self.name == other.name\n",
    "    \n",
    "    def __hash__(self):\n",
    "        return hash(self.name)\n",
    "\n",
    "        "
   ]
  },
  {
   "cell_type": "markdown",
   "id": "959c87fc9a7e3aa1",
   "metadata": {
    "collapsed": false
   },
   "source": [
    "## CONSTANTS VALUES"
   ]
  },
  {
   "cell_type": "code",
   "execution_count": 816,
   "id": "78307c50bcb32bef",
   "metadata": {
    "ExecuteTime": {
     "end_time": "2024-03-07T07:12:38.905529Z",
     "start_time": "2024-03-07T07:12:38.880080Z"
    },
    "collapsed": false
   },
   "outputs": [],
   "source": [
    "POPULATION_SIZE = 1000\n",
    "MAX_WEIGHT = 9.9\n",
    "MIN_VALUE = 12\n",
    "NUM_ITEMS_RANGE = (2, 4)\n",
    "MUTATION_RATE = 0.1\n",
    "GENERATIONS = 1150\n",
    "CROSSOWER_PROBABILITY = 0.5\n",
    "\n"
   ]
  },
  {
   "cell_type": "code",
   "execution_count": 817,
   "id": "887bec92318eb9e9",
   "metadata": {
    "ExecuteTime": {
     "end_time": "2024-03-07T07:12:39.469774Z",
     "start_time": "2024-03-07T07:12:39.448035Z"
    },
    "collapsed": false
   },
   "outputs": [],
   "source": [
    "import random\n"
   ]
  },
  {
   "cell_type": "markdown",
   "id": "bedb43cef4f23873",
   "metadata": {
    "collapsed": false
   },
   "source": [
    "## Generate initial population\n",
    "\n",
    "we generate a list of random chromosomes with random proportion .\n",
    "we define that populations in POPULATION_SIZE and NUM_ITEMS_RANGE for each individual.\n",
    "and for each individual we select a random number of items between NUM_ITEMS_RANGE[0] and NUM_ITEMS_RANGE[1]."
   ]
  },
  {
   "cell_type": "code",
   "execution_count": 818,
   "id": "92210b4f9c53b387",
   "metadata": {
    "ExecuteTime": {
     "end_time": "2024-03-07T07:12:39.895356Z",
     "start_time": "2024-03-07T07:12:39.892497Z"
    },
    "collapsed": false
   },
   "outputs": [],
   "source": [
    "def generate_population():\n",
    "    population = []\n",
    "    for _ in range(POPULATION_SIZE):\n",
    "        elements = random.sample(items, k=random.randint(NUM_ITEMS_RANGE[0], NUM_ITEMS_RANGE[1]))\n",
    "        population.append([ DNA(elements[i][1], elements[i][2], elements[i][0],random.uniform(0, 1))  for i in range(len(elements))])\n",
    "    return population\n",
    "\n"
   ]
  },
  {
   "cell_type": "code",
   "execution_count": 819,
   "id": "831438dfa6e54974",
   "metadata": {
    "ExecuteTime": {
     "end_time": "2024-03-07T07:12:40.142717Z",
     "start_time": "2024-03-07T07:12:40.064557Z"
    },
    "collapsed": false
   },
   "outputs": [],
   "source": [
    "population = generate_population()"
   ]
  },
  {
   "cell_type": "markdown",
   "id": "bbadba510ce51b90",
   "metadata": {
    "collapsed": false
   },
   "source": [
    "## Plot the population sample"
   ]
  },
  {
   "cell_type": "code",
   "execution_count": 820,
   "id": "4c99395e3f523fb8",
   "metadata": {
    "ExecuteTime": {
     "end_time": "2024-03-07T07:12:40.465798Z",
     "start_time": "2024-03-07T07:12:40.341017Z"
    },
    "collapsed": false
   },
   "outputs": [
    {
     "data": {
      "image/png": "[encoded data removed]",
      "text/plain": [
       "<Figure size 640x480 with 1 Axes>"
      ]
     },
     "metadata": {},
     "output_type": "display_data"
    }
   ],
   "source": [
    "import matplotlib.pyplot as plt\n",
    "\n",
    "def plot_population(population):\n",
    "    x = [sum((ind.weight) * (ind.proportion) for ind in individual) for individual in population]\n",
    "    y = [sum((ind.value) * (ind.proportion) for ind in individual) for individual in population]\n",
    "    plt.scatter(x, y)\n",
    "    plt.xlabel('Weight')\n",
    "    plt.ylabel('Value')\n",
    "    plt.show()\n",
    "\n",
    "plot_population(population)"
   ]
  },
  {
   "cell_type": "markdown",
   "id": "c4b6d37ab5ceba30",
   "metadata": {
    "collapsed": false
   },
   "source": [
    "we can see that the population is random and not optimized.\n",
    "and its Uniformly distributed."
   ]
  },
  {
   "cell_type": "markdown",
   "id": "c7f090ac6ee0b173",
   "metadata": {
    "collapsed": false
   },
   "source": [
    "## Fitness function\n",
    "\n",
    "The fitness function is the total value of the items in the knapsack.\n",
    "and in the end we will check if the weight is less than the maximum weight and the value is more than the minimum value."
   ]
  },
  {
   "cell_type": "code",
   "execution_count": 821,
   "id": "9fe1cf15225dffb3",
   "metadata": {
    "ExecuteTime": {
     "end_time": "2024-03-07T07:12:40.687386Z",
     "start_time": "2024-03-07T07:12:40.681236Z"
    },
    "collapsed": false
   },
   "outputs": [],
   "source": [
    "def fit_function(individual):\n",
    "    total_weight = sum((ind.weight) * (ind.proportion) for ind in individual)\n",
    "    total_value = sum((ind.value) * (ind.proportion) for ind in individual)\n",
    "    \n",
    "    sum_bad = 1\n",
    "    \n",
    "    \n",
    "    if total_weight > MAX_WEIGHT :\n",
    "        sum_bad =  10*(total_weight - MAX_WEIGHT) +sum_bad\n",
    "    if total_value < MIN_VALUE :\n",
    "        sum_bad = 2*(MIN_VALUE - total_value) +sum_bad\n",
    "    if len(tuple(individual)) < NUM_ITEMS_RANGE[0] or len(tuple(individual)) > NUM_ITEMS_RANGE[1]:\n",
    "        sum_bad = 10*(len(tuple(individual)) - NUM_ITEMS_RANGE[1]) +sum_bad\n",
    "    \n",
    "    for ind in tuple(individual):\n",
    "        if individual.count(ind) > 1:\n",
    "            sum_bad = 100000*individual.count(ind) +sum_bad\n",
    "    return sum_bad"
   ]
  },
  {
   "cell_type": "code",
   "execution_count": 822,
   "id": "e6e98d898f8bda2c",
   "metadata": {
    "ExecuteTime": {
     "end_time": "2024-03-07T07:12:40.855246Z",
     "start_time": "2024-03-07T07:12:40.835174Z"
    },
    "collapsed": false
   },
   "outputs": [],
   "source": [
    "def fitness(individual):\n",
    "    # total_weight = sum((ind.weight) * (ind.proportion) for ind in individual)\n",
    "    total_value = sum((ind.value) * (ind.proportion) for ind in individual)\n",
    "    \n",
    "    return total_value / fit_function(individual)"
   ]
  },
  {
   "cell_type": "code",
   "execution_count": 822,
   "id": "2f6088987322b027",
   "metadata": {
    "ExecuteTime": {
     "end_time": "2024-03-07T07:12:41.006918Z",
     "start_time": "2024-03-07T07:12:40.985912Z"
    },
    "collapsed": false
   },
   "outputs": [],
   "source": []
  },
  {
   "cell_type": "markdown",
   "id": "7f522c0acb60c662",
   "metadata": {
    "collapsed": false
   },
   "source": [
    "## Selection\n",
    "\n",
    "selection is based on the fitness of each individual.\n",
    "it can help us to select the best individuals for the next generation.\n",
    "\n",
    "if the total fitness is zero we will return None.\n",
    "because we can not select any individual and the process will be stopped."
   ]
  },
  {
   "cell_type": "code",
   "execution_count": 823,
   "id": "ce39fdb61acbd15f",
   "metadata": {
    "ExecuteTime": {
     "end_time": "2024-03-07T07:12:41.371698Z",
     "start_time": "2024-03-07T07:12:41.348192Z"
    },
    "collapsed": false
   },
   "outputs": [],
   "source": [
    "def select(population):\n",
    "    total_fitness = sum(fitness(individual) for individual in population)\n",
    "    if total_fitness == 0:\n",
    "        return None\n",
    "    \n",
    "    selection_probs = [(fitness(individual) / total_fitness) for individual in population]\n",
    "    selected = random.choices(population, weights=selection_probs, k=len(population))\n",
    "    return selected"
   ]
  },
  {
   "cell_type": "markdown",
   "id": "ce4e7355d3625524",
   "metadata": {
    "collapsed": false
   },
   "source": [
    "## Crossover"
   ]
  },
  {
   "cell_type": "code",
   "execution_count": 824,
   "id": "905810349064166c",
   "metadata": {
    "ExecuteTime": {
     "end_time": "2024-03-07T07:12:41.656353Z",
     "start_time": "2024-03-07T07:12:41.637108Z"
    },
    "collapsed": false
   },
   "outputs": [],
   "source": [
    "\n",
    "def crossover(parent1, parent2):\n",
    "    child1 = []\n",
    "    child2 = []\n",
    "    \n",
    "    point = random.randint(1, len(parent1) - 1)\n",
    "    child1.extend(parent1[:point])\n",
    "    child1.extend(parent2[point:])\n",
    "    child2.extend(parent2[:point])\n",
    "    child2.extend(parent1[point:])\n",
    "    \n",
    "    \n",
    "    return child1, child2\n"
   ]
  },
  {
   "cell_type": "markdown",
   "id": "2c4a1ea9f3cdd690",
   "metadata": {
    "collapsed": false
   },
   "source": [
    "## Mutation"
   ]
  },
  {
   "cell_type": "code",
   "execution_count": 825,
   "id": "4e928e47998b3bac",
   "metadata": {
    "ExecuteTime": {
     "end_time": "2024-03-07T07:12:41.927221Z",
     "start_time": "2024-03-07T07:12:41.914938Z"
    },
    "collapsed": false
   },
   "outputs": [],
   "source": [
    "# Perform mutation\n",
    "def mutate(individual):\n",
    "    for i in range(len(individual)):\n",
    "        if random.random() < MUTATION_RATE:\n",
    "            individual[i].proportion = random.uniform(0, 1)\n",
    "    return individual"
   ]
  },
  {
   "cell_type": "markdown",
   "id": "fbe0e95ac34a5fcc",
   "metadata": {
    "collapsed": false
   },
   "source": [
    "## Genetic algorithm"
   ]
  },
  {
   "cell_type": "code",
   "execution_count": 826,
   "id": "87f1161ce5031821",
   "metadata": {
    "ExecuteTime": {
     "end_time": "2024-03-07T07:12:42.280273Z",
     "start_time": "2024-03-07T07:12:42.260626Z"
    },
    "collapsed": false
   },
   "outputs": [],
   "source": [
    "# Genetic algorithm\n",
    "def genetic_algorithm():\n",
    "    population_fitness = []\n",
    "    population = generate_population()\n",
    "    \n",
    "    for _ in range(GENERATIONS):\n",
    "        \n",
    "        \n",
    "        for i in range((len(population)//2)-2):\n",
    "            pair1 , pair2 = crossover(population[i], population[2*i+1])\n",
    "            population[i] = pair1\n",
    "            population[2*i+1] = pair2\n",
    "            # print(fitness(population[i]) , fitness(population[2*i+1]))\n",
    "\n",
    "        new_population = select(population)\n",
    "        population_fitness.append( sum(fitness(individual) for individual in population) )\n",
    "        \n",
    "        if new_population is None:\n",
    "            return None\n",
    "        population = new_population\n",
    "    new__population = []\n",
    "    for individual in population:\n",
    "        if sum((ind.weight) * (ind.proportion) for ind in individual) <= MAX_WEIGHT and sum((ind.value) * (ind.proportion) for ind in individual) >= MIN_VALUE:\n",
    "            new__population.append(individual)\n",
    "    if len(new__population) == 0:\n",
    "        return None , None\n",
    "    return max(population, key=fitness) , population_fitness"
   ]
  },
  {
   "cell_type": "markdown",
   "id": "9604dc6abde455cf",
   "metadata": {
    "collapsed": false
   },
   "source": [
    "## Example usage"
   ]
  },
  {
   "cell_type": "code",
   "execution_count": 835,
   "id": "620d0c6b22db8e2b",
   "metadata": {
    "collapsed": false,
    "ExecuteTime": {
     "end_time": "2024-03-07T12:00:20.415728Z",
     "start_time": "2024-03-07T12:00:12.235657Z"
    }
   },
   "outputs": [
    {
     "name": "stdout",
     "output_type": "stream",
     "text": [
      "Fitness of best individual:  21.712960567437463\n",
      "--------------------\n",
      "Total weight:  9.870673774489191\n",
      "Total value:  21.712960567437463\n",
      "--------------------\n",
      "Items in the knapsack:\n",
      "Pastil weight:  2.947963016043274 value:  6.878580370767639\n",
      "Jooj weight:  6.922710758445918 value:  14.834380196669825\n"
     ]
    }
   ],
   "source": [
    "best_individual , population_fitness = genetic_algorithm()\n",
    "if best_individual is None:\n",
    "    print(\"No solution found\")\n",
    "else:\n",
    "    print(\"Fitness of best individual: \", fitness(best_individual))\n",
    "    print(\"--------------------\")\n",
    "    print(\"Total weight: \", sum((ind.weight) * (ind.proportion) for ind in best_individual))\n",
    "    print(\"Total value: \", sum((ind.value) * (ind.proportion) for ind in best_individual))\n",
    "    print(\"--------------------\")\n",
    "    print(\"Items in the knapsack:\")\n",
    "    for ind in best_individual:\n",
    "        print(ind.name , \"weight: \", ind.weight*ind.proportion, \"value: \", ind.value*ind.proportion)"
   ]
  },
  {
   "cell_type": "markdown",
   "id": "459ff9fe5735cb93",
   "metadata": {
    "collapsed": false
   },
   "source": [
    "## Plot the fitness of the population"
   ]
  },
  {
   "cell_type": "code",
   "execution_count": 836,
   "id": "3ec57b708030e85a",
   "metadata": {
    "collapsed": false,
    "ExecuteTime": {
     "end_time": "2024-03-07T12:00:20.555138Z",
     "start_time": "2024-03-07T12:00:20.420516Z"
    }
   },
   "outputs": [
    {
     "data": {
      "text/plain": "<Figure size 640x480 with 1 Axes>",
      "image/png": "[encoded data removed]"
     },
     "metadata": {},
     "output_type": "display_data"
    }
   ],
   "source": [
    "if population_fitness is None:\n",
    "    print(\"No solution found\")\n",
    "else:\n",
    "    import matplotlib.pyplot as plt\n",
    "    plt.plot(population_fitness)\n",
    "    plt.xlabel('Generation')\n",
    "    plt.ylabel('Fitness')\n",
    "    plt.show()\n"
   ]
  },
  {
   "cell_type": "markdown",
   "id": "bcc8f18961382889",
   "metadata": {
    "collapsed": false
   },
   "source": [
    "# Calculates Final Weight and Value by the best individual\n",
    "now we can calculate the total weight and value of the best individual \n",
    ". sort the items by the value/weight ratio and then select the best items to put in the knapsack."
   ]
  },
  {
   "cell_type": "code",
   "execution_count": 829,
   "id": "f94c6385796b65b1",
   "metadata": {
    "ExecuteTime": {
     "end_time": "2024-03-07T07:12:48.541217Z",
     "start_time": "2024-03-07T07:12:48.534286Z"
    },
    "collapsed": false
   },
   "outputs": [
    {
     "name": "stdout",
     "output_type": "stream",
     "text": [
      " .   Pastil 3 7\n",
      " .   Jooj 7 15\n",
      " .   Ghottab 7 10\n",
      " .   Chocoroll 9 12\n",
      " .   Saghe-Talaei 9 11\n",
      " .   Masghati 5 6\n",
      " .   Shokolat 6 7\n",
      " .   MazMaz 10 10\n",
      " .   Nani 5 5\n",
      " .   Cookies 11 11\n",
      " .   Abnabat 4 4\n",
      " .   Choob-Shoor 13 12\n",
      " .   Tordilla 10 9\n",
      " .   Popcorn 16 13\n",
      " .   Hot-Dog 20 15\n",
      " .   Chips 8 6\n",
      " .   Doogh-e-Abali 15 10\n",
      " .   Nooshaba 12 8\n",
      " .   Adams-Khersi 14 9\n"
     ]
    }
   ],
   "source": [
    "serted_item_list = sorted(items, key=lambda x: x[2]/x[1], reverse=True)\n",
    "for item in serted_item_list:\n",
    "    print(' .  ',item[0] , item[1] , item[2])"
   ]
  },
  {
   "cell_type": "markdown",
   "id": "1b378b2cd81c051b",
   "metadata": {
    "collapsed": false
   },
   "source": [
    "Best items with weight and value that need to be put in the knapsack"
   ]
  },
  {
   "cell_type": "code",
   "execution_count": 830,
   "id": "3a49b054a18329e6",
   "metadata": {
    "ExecuteTime": {
     "end_time": "2024-03-07T07:12:48.555043Z",
     "start_time": "2024-03-07T07:12:48.539005Z"
    },
    "collapsed": false
   },
   "outputs": [
    {
     "name": "stdout",
     "output_type": "stream",
     "text": [
      " .   Pastil 3 7\n",
      " .   Jooj 6.9 14.785714285714286\n",
      "best value :  21.785714285714285\n",
      "best weight :  9.9\n"
     ]
    }
   ],
   "source": [
    "best_value =0\n",
    "weight = 0\n",
    "\n",
    "for item in serted_item_list :\n",
    "    if weight + item[1] <= MAX_WEIGHT:\n",
    "        print(' .  ',item[0] , item[1] , item[2])\n",
    "        weight += item[1]\n",
    "        best_value += item[2]\n",
    "    else:\n",
    "        print(' .  ',item[0] , (MAX_WEIGHT - weight) /item[1]  * item[1]  , (MAX_WEIGHT - weight) /item[1]* item[2] )\n",
    "        best_value += ((MAX_WEIGHT - weight) /item[1]) * item[2]\n",
    "        weight+= ((MAX_WEIGHT - weight) /item[1]) * item[1]\n",
    "        break\n",
    "print('best value : ',best_value)\n",
    "print('best weight : ',weight)"
   ]
  },
  {
   "cell_type": "markdown",
   "id": "c5467eafe3b765ae",
   "metadata": {
    "collapsed": false
   },
   "source": [
    "# Question Answers :"
   ]
  },
  {
   "cell_type": "markdown",
   "id": "2313a3163291ee39",
   "metadata": {
    "collapsed": false
   },
   "source": [
    "# Question 1 :\n",
    "what is problem of low and high initial population size?\n",
    "\n",
    "Low initial population size can cause the algorithm to get stuck in a local minimum. and high initial population size can cause the algorithm to be slow and consume a lot of resources\n"
   ]
  },
  {
   "cell_type": "markdown",
   "id": "7f6e6bb71dc05651",
   "metadata": {
    "collapsed": false
   },
   "source": [
    "# Question 2 :\n",
    "if population size increase in each generation, what is the problem?\n",
    "\n",
    "If the population size increases in each generation, the algorithm will be slow and consume a lot of resources.\n",
    "and accuracy of the algorithm will be decreased.\n",
    "\n"
   ]
  },
  {
   "cell_type": "markdown",
   "id": "6dbb25616b9fa564",
   "metadata": {
    "collapsed": false
   },
   "source": [
    "# Question 3 :\n",
    "\n",
    "compare the effect of mutation rate on the algorithm performance. can we use just mutation or crossover?\n",
    "\n",
    "Mutation rate is the probability of a gene being mutated. A high mutation rate can cause the algorithm to converge slowly, and a low mutation rate can cause the algorithm to get stuck in a local minimum. We can use just mutation or crossover, but using both will increase the accuracy of the algorithm.\n"
   ]
  },
  {
   "cell_type": "markdown",
   "id": "476b025ebe1115d2",
   "metadata": {
    "collapsed": false
   },
   "source": [
    "# Question 4 :\n",
    "\n",
    "what is your suggestion to solve the problem of premature convergence?\n",
    "\n",
    "\n"
   ]
  },
  {
   "cell_type": "markdown",
   "id": "24d328768d1fbefc",
   "metadata": {
    "collapsed": false
   },
   "source": [
    "# Question 5 :\n",
    "\n",
    "by this method maybe after some generation we get the same result, what is the problem and how to solve it?\n",
    "\n",
    "The problem is that the algorithm gets stuck in a local minimum. We can solve this problem by increasing the mutation rate or using a different selection method.\n"
   ]
  },
  {
   "cell_type": "markdown",
   "id": "e2313773758e224e",
   "metadata": {
    "collapsed": false
   },
   "source": [
    "# Question 6 :\n",
    "\n",
    "what is your idea to finish program if we dont have any solution?\n",
    "\n",
    "We can finish the program if the fitness of the best individual is zero or if the fitness of the best individual is not increasing after a certain number of generations.\n",
    "or in the last generation we can check if the best individual is not in the range of the problem we can finish the program and return None.\n",
    "for showing the user that there is no solution for this problem."
   ]
  },
  {
   "cell_type": "code",
   "execution_count": null,
   "id": "14c5d6ca60ea2119",
   "metadata": {
    "collapsed": false
   },
   "outputs": [],
   "source": []
  }
 ],
 "metadata": {
  "kernelspec": {
   "display_name": "Python 3 (ipykernel)",
   "language": "python",
   "name": "python3"
  },
  "language_info": {
   "codemirror_mode": {
    "name": "ipython",
    "version": 3
   },
   "file_extension": ".py",
   "mimetype": "text/x-python",
   "name": "python",
   "nbconvert_exporter": "python",
   "pygments_lexer": "ipython3",
   "version": "3.11.4"
  }
 },
 "nbformat": 4,
 "nbformat_minor": 5
}
