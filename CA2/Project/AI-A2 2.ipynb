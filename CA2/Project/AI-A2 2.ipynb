{
 "cells": [
  {
   "cell_type": "markdown",
   "metadata": {
    "collapsed": false
   },
   "source": [
    "# Artificial Intelligence Course 2024\n",
    "Exersice 2 -  HMM  :  Hidden Markov Models  \n",
    "\n",
    "\n",
    "\n",
    "# Mohammad Taha Majlesi \n",
    "810101504"
   ]
  },
  {
   "cell_type": "markdown",
   "metadata": {
    "collapsed": false
   },
   "source": [
    "Hidden Markov Models (HMMs) are statistical models used to describe sequences of observable events or data where the underlying system generating those events is believed to be a Markov process, which means that the future state depends only on the current state and not on the sequence of events that preceded it. HMMs are particularly useful in modeling time series data, such as speech signals, biological sequences, and financial data.\n",
    "\n",
    "\n",
    "for trainning we can use this standards :\n",
    "\n",
    "- Accuracy: The percentage of correctly classified instances.\n",
    "- Precision: The percentage of instances classified as positive that are actually positive.\n",
    "- Recall: The percentage of actual positive instances that are classified as positive.\n",
    "- F1 Score: The harmonic mean of precision and recall, providing a balanced measure of model performance.\n",
    "\n",
    "\n",
    "\n",
    "\n"
   ]
  },
  {
   "cell_type": "markdown",
   "metadata": {
    "collapsed": false
   },
   "source": []
  },
  {
   "cell_type": "markdown",
   "metadata": {
    "collapsed": false
   },
   "source": [
    "# Audio Genre Classification with HMMs\n",
    "\n",
    "in this asignment we have dataset of audio files that contains 6 differrent genres of voice.\n",
    "in each genre we have 50 audio that contain intigers from 1 to 10 for each audio file in 6 differrent people.\n",
    "\n",
    "now we need to save the audio files in 6 differrent folders for each person and then extract the features from the audio files and train a HMM for each genre, storing the trained models in the hmm_models list.\n",
    "\n",
    "then we need to iterate through the audio files, extract features, and use the trained HMMs to predict the genre for each audio file.\n"
   ]
  },
  {
   "cell_type": "markdown",
   "metadata": {
    "collapsed": false
   },
   "source": [
    "# Preprocessing and Feature Extraction\n",
    "\n",
    "at first we need to extract the features from the audio files. In this case, we will use Mel-Frequency Cepstral Coefficients (MFCCs) as the feature representation for each audio file. MFCCs are commonly used in speech and audio processing tasks to capture the spectral characteristics of the audio signal.\n",
    "\n",
    "\n",
    "\n",
    "Question 1 : is data segmentation needed for this project ? why ?\n",
    "- Answer : Yes data segmentation is needed for this project. In the context of audio signal processing, data segmentation refers to the process of dividing the audio signal into smaller, non-overlapping segments or frames. This is necessary to extract features from the audio signal that capture the temporal dynamics and spectral characteristics of the signal. By segmenting the audio signal into frames, we can analyze the signal over short time intervals and extract features that are representative of the signal's content. In the case of Mel-Frequency Cepstral Coefficients (MFCCs), data segmentation is essential to compute the MFCCs for each frame of the audio signal and capture the spectral envelope of the signal over time. Without data segmentation, it would be challenging to extract meaningful features from the audio signal and model the relationship between the audio signal and the hidden states in the Hidden Markov Models (HMMs). Data segmentation helps in capturing the temporal dynamics of the audio signal and improving the feature representation for machine learning tasks like audio genre classification.\n",
    "\n",
    "Question 2 : what are Zero Crossing Rate , mel-spectrogram , chroma features and MFCCs ?\n",
    "\n",
    "- Answer : Zero Crossing Rate: Zero Crossing Rate is a feature commonly used in audio signal processing to characterize the frequency content and temporal dynamics of a signal. It measures the rate at which the audio signal changes sign (crosses zero) over time. Zero Crossing Rate can provide information about the pitch, timbre, and rhythmic patterns in the audio signal.\n",
    "\n",
    "- Mel-Spectrogram: The Mel-Spectrogram is a representation of the short-time power spectrum of an audio signal, where the frequency axis is converted to the Mel scale, which approximates the human auditory system's response to sound. The Mel-Spectrogram is commonly used in speech and music processing tasks to extract features that capture the spectral characteristics of the audio signal.\n",
    "\n",
    "- Chroma Features: Chroma features are a set of features that represent the pitch content of an audio signal. They are derived from the chromagram, which is a representation of the audio signal in terms of its pitch classes or chroma. Chroma features are useful for tasks like music genre classification, chord recognition, and melody extraction.\n",
    "\n",
    "- Mel Frequency Cepstral Coefficient (MFCC): Mel Frequency Cepstral Coefficients (MFCCs) are a feature widely used in automatic speech and speaker recognition tasks. MFCCs are derived from the short-term power spectrum of a sound signal, and they provide a compact representation of the spectral envelope. MFCCs capture the timbral and spectral characteristics of the audio signal and are commonly used as input features for machine learning models in speech and audio processing tasks.\n",
    "\n",
    "- Question 3 : Check the robustness and sensitivity of MFCCs characteristics to changes in audio signals :\n",
    "\n",
    "- Answer : Mel Frequency Cepstral Coefficients (MFCCs) are widely used in speech and audio processing tasks due to their effectiveness in capturing the spectral characteristics of the audio signal. MFCCs are robust to changes in audio signals and can capture important features that are invariant to variations in the audio signal. However, MFCCs may be sensitive to certain types of changes in the audio signal, such as noise, distortion, or non-stationarity. Here are some factors that can affect the robustness and sensitivity of MFCCs characteristics: \n",
    "\n",
    "\n",
    "\n",
    "\n",
    "\n",
    "\n",
    "\n",
    "Question 4 : do we have state that MFCC is not good for this project ? why ?\n",
    "\n",
    "- Answer : Mel Frequency Cepstral Coefficients (MFCCs) are a widely used feature representation in speech and audio processing tasks due to their effectiveness in capturing the spectral characteristics of the audio signal. However, there are some scenarios where MFCCs may not be the best choice of features:\n",
    "\n",
    "1. Non-Stationary Signals: MFCCs assume that the audio signal is stationary over short time intervals, which may not hold for non-stationary signals with rapidly changing spectral characteristics. In such cases, other features like Gammatone Frequency Cepstral Coefficients (GFCCs) or Temporal Pattern Features (TPFs) may be more suitable.\n",
    "2. High-Dimensional Data: MFCCs can result in high-dimensional feature vectors, especially when using a large number of coefficients. For high-dimensional data, dimensionality reduction techniques like Principal Component Analysis (PCA) or Linear Discriminant Analysis (LDA) may be needed to reduce the feature space.\n",
    "3. Noisy Environments: MFCCs are sensitive to noise and may not perform well in noisy environments where the signal-to-noise ratio is low. In such cases, noise-robust features like Perceptual Linear Prediction (PLP) coefficients or Noise-Robust MFCCs (NMFCCs) may be more appropriate.\n",
    "4. Non-Linear Signal Transformations: MFCCs assume a linear relationship between the audio signal and the Mel filterbank. For signals with non-linear relationships, other feature representations like Non-Linear MFCCs (NMFCCs) or Deep Belief Network (DBN) features may be more effective.\n",
    "5. Limited Temporal Context: MFCCs capture short-term spectral information but may not capture long-term dependencies in the audio signal. For tasks requiring long-range temporal modeling, features like Long-Term Spectral Features (LTSFs) or Long Short-Term Memory (LSTM) features may be more suitable.\n",
    "6. Task-Specific Requirements: The choice of features depends on the specific requirements of the task, such as speech recognition, speaker identification, or emotion recognition. Different tasks may benefit from different feature representations, and it is important to select features that are well-suited to the task at hand.\n",
    "\n",
    "\n",
    "Question 5 : why in MFCC frames that we used are overlapped with each other ?\n",
    "\n",
    "- Answer : Overlapping frames in MFCC feature extraction is a common practice in audio signal processing to capture temporal dynamics and improve feature representation. By overlapping adjacent frames, we can capture the evolution of the audio signal over time and reduce the impact of abrupt changes at frame boundaries. Overlapping frames can help in capturing short-term variations in the audio signal, improving the robustness of the feature representation and enhancing the performance of machine learning models trained on MFCC features. Overlapping frames can also help in capturing transient events, such as phonemes or musical notes, that may span multiple frames. By overlapping frames, we can ensure that important information is not lost at frame boundaries and that the feature representation is more robust to variations in the audio signal.\n",
    "\n",
    "Question 6 : why in most of the cases we use 13 MFCCs ?\n",
    "\n",
    "- Answer : The choice of 13 Mel-Frequency Cepstral Coefficients (MFCCs) is a common practice in audio signal processing and speech recognition tasks. The number 13 is often used as a compromise between capturing the relevant spectral information of the audio signal and reducing the dimensionality of the feature representation. By selecting 13 MFCCs, we can capture the most salient spectral characteristics of the audio signal while keeping the feature vector size manageable for machine learning models. The 13 MFCCs typically include the first coefficient (the zeroth coefficient is often discarded), which represents the overall signal energy, as well as higher-order coefficients that capture the spectral shape and dynamics of the audio signal. The choice of 13 MFCCs is based on empirical observations and has been found to be effective in various speech and audio processing tasks. However, the number of MFCCs can be adjusted based on the specific requirements of the task and the characteristics of the audio data. In some cases, more than 13 MFCCs may be used to capture additional spectral details, while in other cases, fewer MFCCs may be sufficient to represent the audio signal effectively.\n",
    "\n",
    "\n",
    "\n",
    "\n"
   ]
  },
  {
   "cell_type": "markdown",
   "source": [],
   "metadata": {
    "collapsed": false
   }
  },
  {
   "cell_type": "markdown",
   "metadata": {
    "collapsed": false
   },
   "source": [
    "# Mel Frequency Cepstral Coefficient (MFCC) :\n",
    "Mel Frequency Cepstral Coefficients (MFCCs) are a feature widely used in automatic speech and speaker recognition tasks. MFCCs are derived from the short-term power spectrum of a sound signal, and they provide a compact representation of the spectral envelope.\n"
   ]
  },
  {
   "cell_type": "markdown",
   "source": [
    "# Implement Speach Recognition with HMMs with Python in HMMlearn\n",
    "\n",
    "\n",
    "To use Hidden Markov Models (HMMs) for speech recognition in Python, you can leverage machine learning libraries that provide implementations of HMMs and related algorithms. One popular library for this purpose is hmmlearn, which is part of the scikit-learn ecosystem. Here's a general outline of how you can use HMMs for speech recognition with hmmlearn:\n",
    "\n",
    ". Data Preparation:\n",
    "\n",
    "Load your speech data (audio files) into Python.\n",
    "Extract acoustic features from the audio, such as Mel-Frequency Cepstral Coefficients (MFCCs) using libraries like librosa or python_speech_features.\n",
    "Split your data into training and test sets.\n",
    "\n",
    ". Model Training:\n",
    "Import the required classes from hmmlearn, such as GaussianHMM and MultinomialHMM.\n",
    "Create an instance of the HMM model, specifying the number of hidden states (e.g., equal to the number of phonemes or sub-word units).\n",
    "Train the HMM model using the fit method, providing the training data (MFCCs) and the corresponding labels (phoneme or sub-word unit sequences).\n",
    "\n",
    "fo that audio files we need just that Mel-Frequency Cepstral Coefficients (MFCCs) from that audio files.\n",
    "we need to extract the MFCCs from the audio files and save them to a files first ."
   ],
   "metadata": {
    "collapsed": false
   }
  },
  {
   "cell_type": "code",
   "execution_count": null,
   "outputs": [],
   "source": [
    "# Hyper Parameters\n",
    "\n",
    "num_hidden_states = 20\n",
    "num_iterations = 5\n",
    "percentage_training = 0.8\n",
    "percentage_testing = 1 - percentage_training\n",
    "covar_type = \"diag\"\n",
    "num_of_speakers = 6\n",
    "num_of_numbers = 10\n",
    "\n"
   ],
   "metadata": {
    "collapsed": false
   }
  },
  {
   "cell_type": "code",
   "execution_count": null,
   "outputs": [],
   "source": [],
   "metadata": {
    "collapsed": false
   }
  },
  {
   "cell_type": "markdown",
   "metadata": {
    "collapsed": false
   },
   "source": [
    "# Example of plotting the MFCCs of an audio file using librosa and matplotlib\n",
    "\n",
    "we dont used any preprocessing for the audio files and we just used the MFCCs for the audio files."
   ]
  },
  {
   "cell_type": "code",
   "execution_count": null,
   "metadata": {
    "collapsed": false
   },
   "outputs": [],
   "source": [
    "import librosa\n",
    "import numpy as np\n",
    "import librosa.display\n",
    "import matplotlib.pyplot as plt\n",
    "from cycler import cycler\n",
    "\n",
    "audio_file = \"recordings/1_jackson_0.wav\"\n",
    "y, sr = librosa.load(audio_file)\n"
   ]
  },
  {
   "cell_type": "code",
   "execution_count": null,
   "metadata": {
    "collapsed": false
   },
   "outputs": [],
   "source": [
    "\n",
    "\n",
    "mfccs = librosa.feature.mfcc(y=y, sr=sr, n_mfcc=13)\n",
    "\n",
    "plt.figure(figsize=(10, 4))\n",
    "librosa.display.specshow(mfccs, x_axis=\"time\", sr=sr)\n",
    "plt.title(\"MFCC\")\n",
    "plt.show()\n",
    "\n"
   ]
  },
  {
   "cell_type": "markdown",
   "metadata": {
    "collapsed": false
   },
   "source": [
    "now if we have preprocessing for the audio file we have this code \n",
    "after splitting the audio file into non-silent intervals, we can extract the MFCCs for each interval and visualize them using librosa and matplotlib."
   ]
  },
  {
   "cell_type": "code",
   "execution_count": null,
   "outputs": [],
   "source": [
    "import librosa.display\n",
    "import matplotlib.pyplot as plt\n",
    "\n",
    "audio_file = \"recordings/1_jackson_0.wav\"\n",
    "y, sr = librosa.load(audio_file)\n",
    "\n",
    "non_silent_interval = librosa.effects.split(y, top_db=30) \n",
    "y = y[non_silent_interval[0][0]:non_silent_interval[0][1]]\n",
    "\n",
    "plt.figure(figsize=(10, 4))\n",
    "librosa.display.specshow(librosa.feature.mfcc(y=y, sr=sr, n_mfcc=13), x_axis=\"time\", sr=sr)\n",
    "plt.title(\"MFCC\")\n",
    "\n",
    "plt.figure(figsize=(10, 4))\n",
    "librosa.display.specshow(librosa.feature.melspectrogram(y=y, sr=sr), x_axis=\"time\", sr=sr)\n",
    "plt.title(\"Mel Spectrogram\")\n",
    "\n",
    "plt.figure(figsize=(10, 4))\n",
    "librosa.display.specshow(librosa.feature.chroma_stft(y=y, sr=sr), x_axis=\"time\", sr=sr)\n",
    "plt.title(\"Chroma Features\")\n",
    "\n",
    "plt.show()\n",
    "\n"
   ],
   "metadata": {
    "collapsed": false
   }
  },
  {
   "cell_type": "markdown",
   "metadata": {
    "collapsed": false
   },
   "source": [
    "# Extracting MFCCs from Audio Files\n",
    "we extract that MFCCs from the audio files and save them to a list for each digit.\n",
    "but transposing the MFCCs matrix to have the time axis as the first dimension."
   ]
  },
  {
   "cell_type": "code",
   "execution_count": null,
   "metadata": {
    "collapsed": false
   },
   "outputs": [],
   "source": [
    "import os\n",
    "import librosa\n",
    "\n",
    "base_audio_dir = \"recordings\"\n",
    "mfccs_list = []\n",
    "num_categories = 10  # Assuming 10 categories, from 0 to 9\n",
    "files_per_category = 300  # Assuming 300 files per category\n",
    "\n",
    "files = os.listdir(base_audio_dir)\n",
    "files.sort()  # Ensure the files are sorted; adjust if needed to match your sorting criteria\n",
    "\n",
    "for i in range(num_categories):\n",
    "    mfccss = []\n",
    "    # Calculate start and end indices for files in this category\n",
    "    start_idx = i * files_per_category\n",
    "    end_idx = start_idx + files_per_category\n",
    "    for file in files[start_idx:end_idx]:\n",
    "        print(file)\n",
    "        audio_file = os.path.join(base_audio_dir, file)\n",
    "        y, sr = librosa.load(audio_file)\n",
    "        non_silent_intervals = librosa.effects.split(y, top_db=30)\n",
    "        for interval in non_silent_intervals:\n",
    "            mfccs = librosa.feature.mfcc(y=y[interval[0]:interval[1]], sr=sr, n_mfcc=13)\n",
    "            mfccss.append(mfccs.T)\n",
    "    mfccs_list.append(mfccss)\n"
   ]
  },
  {
   "cell_type": "code",
   "execution_count": null,
   "metadata": {
    "collapsed": false
   },
   "outputs": [],
   "source": [
    "\n",
    "print(len(mfccs_list[3]))\n",
    "print(mfccs_list[0][0].shape)"
   ]
  },
  {
   "cell_type": "markdown",
   "source": [
    "# Plot the MFCCs for the first audio file of each digit"
   ],
   "metadata": {
    "collapsed": false
   }
  },
  {
   "cell_type": "code",
   "execution_count": null,
   "outputs": [],
   "source": [
    "import matplotlib.pyplot as plt\n",
    "\n",
    "plt.figure(figsize=(5, 2))\n",
    "librosa.display.specshow((mfccs_list[0][0]), x_axis=\"time\", sr=sr)\n",
    "plt.title(\"MFCC 0\")\n",
    "\n",
    "plt.figure(figsize=(5, 2))\n",
    "librosa.display.specshow((mfccs_list[1][0]), x_axis=\"time\", sr=sr)\n",
    "plt.title(\"MFCC 1\")\n",
    "\n",
    "plt.figure(figsize=(5, 2))\n",
    "librosa.display.specshow((mfccs_list[2][0]), x_axis=\"time\", sr=sr)\n",
    "plt.title(\"MFCC 2\")\n",
    "\n",
    "plt.figure(figsize=(5, 2))\n",
    "librosa.display.specshow((mfccs_list[3][0]), x_axis=\"time\", sr=sr)\n",
    "plt.title(\"MFCC 3\")\n",
    "\n",
    "plt.figure(figsize=(5, 2))\n",
    "librosa.display.specshow((mfccs_list[4][0]), x_axis=\"time\", sr=sr)\n",
    "plt.title(\"MFCC 4\")\n",
    "\n",
    "plt.figure(figsize=(5, 2))\n",
    "librosa.display.specshow((mfccs_list[5][0]), x_axis=\"time\", sr=sr)\n",
    "plt.title(\"MFCC 5\")\n",
    "\n",
    "plt.figure(figsize=(5, 2))\n",
    "librosa.display.specshow((mfccs_list[6][0]), x_axis=\"time\", sr=sr)\n",
    "plt.title(\"MFCC 6\")\n",
    "\n",
    "plt.figure(figsize=(5, 2))\n",
    "librosa.display.specshow((mfccs_list[7][0]), x_axis=\"time\", sr=sr)\n",
    "plt.title(\"MFCC 7\")\n",
    "\n",
    "plt.figure(figsize=(5, 2))\n",
    "librosa.display.specshow((mfccs_list[8][0]), x_axis=\"time\", sr=sr)\n",
    "plt.title(\"MFCC 8\")\n",
    "\n",
    "plt.figure(figsize=(5, 2))\n",
    "librosa.display.specshow((mfccs_list[9][0]), x_axis=\"time\", sr=sr)\n",
    "plt.title(\"MFCC 9\")\n",
    "\n",
    "\n",
    "plt.show()\n",
    "\n"
   ],
   "metadata": {
    "collapsed": false
   }
  },
  {
   "cell_type": "markdown",
   "source": [
    "## First Questions :\n",
    "\n",
    "Question 1 : what are states and observations  in this project ?\n",
    "\n",
    "Answer : In the context of Hidden Markov Models (HMMs), states are the underlying, unobservable variables that the model uses to generate observations. Each state represents a particular situation or condition in the system being modeled. Observations, on the other hand, are the visible or measurable outputs of the system that are influenced by the underlying states. In speech recognition, for example, the states might represent different phonemes or words, while the observations are the acoustic features extracted from the speech signal.\n",
    "\n",
    "observations are the visible or measurable outputs of the system that are influenced by the underlying states. In speech recognition, it hase 13 features that are extracted from the audio signal, such as Mel-Frequency Cepstral Coefficients (MFCCs).\n",
    "and by that we can use the HMMs to model the relationship between the states and the observations, allowing us to infer the most likely sequence of states given a sequence of observations.\n",
    "for each of 13 dimensions we have 20 states that we can use to model the relationship between the states and the observations.\n",
    "and for testing we can sum all of that probebilities for that other dimantions .\n",
    "\n",
    "Question 2 : in this project we are using First Order HMM why we are using that and why we name that First Order HMM ?\n",
    "\n",
    "Answer : In the context of Hidden Markov Models (HMMs), the term \"first-order\" refers to the assumption that the current state depends only on the previous state in the sequence. This means that the transition probabilities between states are modeled as a first-order Markov chain, where the probability of transitioning to a particular state depends only on the current state and not on previous states.\n",
    "\n",
    "Question 3 : what are best usage of HMMs ?\n",
    "\n",
    "Answer : Hidden Markov Models (HMMs) are widely used in various fields for modeling sequential data with hidden states. Some common applications of HMMs include:\n",
    "\n",
    "1. Speech Recognition: HMMs are used to model the relationship between spoken words and the acoustic features extracted from speech signals. They can help identify the most likely sequence of words given the observed speech signal.\n",
    "2. Natural Language Processing: HMMs are used in tasks like part-of-speech tagging, named entity recognition, and speech synthesis. They can model the sequential nature of language and infer hidden structures in text data.\n",
    "3. Bioinformatics: HMMs are used in bioinformatics to model biological sequences like DNA, RNA, and proteins. They can help identify patterns, motifs, and hidden structures in biological data.\n",
    "4. Time Series Analysis: HMMs are used to model and predict time series data, such as stock prices, weather patterns, and sensor readings. They can capture the underlying states and transitions in sequential data.\n",
    "5. Gesture Recognition: HMMs are used in gesture recognition systems to model and recognize human gestures. They can infer the most likely sequence of gestures given observed motion data.\n",
    "6. Anomaly Detection: HMMs are used in anomaly detection systems to model normal behavior and detect deviations from the expected patterns. They can identify unusual sequences of events in data.\n",
    "\n",
    "Question 4 : what are advanteges and disadvanteges of HMMs ?\n",
    "\n",
    "Answer : Hidden Markov Models (HMMs) have several advantages and disadvantages that make them suitable for certain types of problems and less suitable for others. Here are some of the key advantages and disadvantages of HMMs:\n",
    "\n",
    "Advantages of HMMs:\n",
    "1. Flexibility: HMMs are flexible models that can capture complex relationships in sequential data with hidden states. They can model a wide range of sequential patterns and dependencies.\n",
    "2. Probabilistic Framework: HMMs provide a probabilistic framework for modeling uncertainty in data. They can estimate the likelihood of observed sequences and infer the most likely hidden states.\n",
    "3. Sequential Data: HMMs are well-suited for modeling sequential data with hidden structures. They can capture the temporal dependencies and transitions between states in sequential data.\n",
    "4. Scalability: HMMs can be trained efficiently using algorithms like the Baum-Welch algorithm and the Viterbi algorithm. They can handle large datasets and high-dimensional observations.\n",
    "5. Interpretability: HMMs provide interpretable results that can help understand the underlying states and transitions in sequential data. They can reveal hidden structures and patterns in the data.\n",
    "6. Versatility: HMMs have been successfully applied to a wide range of applications, including speech recognition, natural language processing, bioinformatics, and time series analysis.\n",
    "\n",
    "Disadvantages of HMMs:\n",
    "1. Simplifying Assumptions: HMMs make simplifying assumptions about the underlying data, such as the first-order Markov assumption. These assumptions may not always hold in real-world scenarios.\n",
    "2. Limited Memory: HMMs have limited memory and can only capture dependencies up to a certain number of previous states. They may struggle with long-range dependencies in sequential data.\n",
    "3. Model Complexity: HMMs can be complex to train and interpret, especially for large datasets with many hidden states. Tuning the model parameters and selecting the number of states can be challenging.\n",
    "4. Overfitting: HMMs are prone to overfitting when the model complexity is high relative to the amount of training data. Regularization techniques may be needed to prevent overfitting.\n",
    "5. Initialization Sensitivity: HMMs are sensitive to the choice of initial parameters and may converge to different local optima during training. Careful initialization and hyperparameter tuning are required.\n",
    "6. Computational Cost: HMMs can be computationally expensive to train and evaluate, especially for large datasets and high-dimensional observations. Efficient algorithms and parallel processing may be needed to scale to large datasets.\n",
    "\n",
    "Question 5 : what are other types of HMMs ? describe them ?\n",
    "\n",
    "Answer : Hidden Markov Models (HMMs) are a class of probabil\n",
    "istic graphical models that are widely used for modeling sequential data with hidden states. There are several variants and extensions of HMMs that have been developed to address specific challenges and applications. Some of the key types of HMMs include:\n",
    "\n",
    "1. Continuous HMMs: Continuous HMMs are an extension of standard HMMs where the observations are continuous rather than discrete. They are used when the observed data is continuous, such as speech signals or sensor readings. Continuous HMMs model the probability distributions of continuous observations using Gaussian mixture models (GMMs) or other continuous distributions.\n",
    "2. Hidden Semi-Markov Models (HSMMs): Hidden Semi-Markov Models are an extension of HMMs that allow for variable-length states. In HSMMs, the duration of each state is explicitly modeled as a separate random variable, allowing for more flexible modeling of temporal dependencies. HSMMs are used in speech recognition, bioinformatics, and other applications where the duration of states varies.\n",
    "3. Factorial HMMs: Factorial HMMs are a type of HMM that models dependencies between multiple sequences of observations. They are used to capture interactions between multiple sequences or modalities of data, such as audio and video streams. Factorial HMMs can model complex relationships between different sources of data.\n",
    "4. Hierarchical HMMs: Hierarchical HMMs are a type of HMM that models data at multiple levels of abstraction. They consist of a hierarchy of HMMs, with each level capturing different levels of detail in the data. Hierarchical HMMs are used in speech recognition, gesture recognition, and other applications where data has a hierarchical structure.\n",
    "5. Coupled HMMs: Coupled HMMs are a type of HMM that models dependencies between multiple sequences of observations. They are used to capture interactions between different sources of data, such as audio and video streams. Coupled HMMs can model complex relationships between different modalities of data.\n",
    "6. Recurrent Neural Network HMMs: Recurrent Neural Network HMMs combine the sequential modeling capabilities of Recurrent Neural Networks (RNNs) with the probabilistic modeling of HMMs. They are used to model sequential data with hidden states and capture long-range dependencies in the data. RNN HMMs are used in speech recognition, natural language processing, and other applications where sequential data is prevalent.\n",
    "\n",
    "\n",
    "\n"
   ],
   "metadata": {
    "collapsed": false
   }
  },
  {
   "cell_type": "markdown",
   "source": [
    "# Part 1 : Implementing HMMs for Audio Genre Classification with Librerias -> HMMlearn\n",
    "\n",
    "Now we need models for all of intigers from 0 to 9\n"
   ],
   "metadata": {
    "collapsed": false
   }
  },
  {
   "cell_type": "code",
   "execution_count": null,
   "metadata": {
    "collapsed": false
   },
   "outputs": [],
   "source": [
    "from hmmlearn import hmm\n",
    "import numpy as np\n",
    "HMM_models_library_hmmlearn = []\n",
    "\n",
    "for i in range(10):\n",
    "    model = hmm.GaussianHMM(n_components=num_hidden_states, covariance_type=covar_type, n_iter=num_iterations)\n",
    "    lengths = [len(mfcc) for mfcc in mfccs_list[i][0:(int(percentage_training*len(mfccs_list[i])))]]\n",
    "    X_concatenated = np.concatenate(mfccs_list[i][0:int((percentage_training*len(mfccs_list[i])))])\n",
    "    model.fit(X_concatenated, lengths=lengths)\n",
    "    \n",
    "    \n",
    "    HMM_models_library_hmmlearn.append(model)"
   ]
  },
  {
   "cell_type": "raw",
   "metadata": {
    "collapsed": false
   },
   "source": [
    "now we can test it : "
   ]
  },
  {
   "cell_type": "code",
   "execution_count": null,
   "outputs": [],
   "source": [
    "audio__index = 4\n",
    "\n",
    "test = mfccs_list[0][audio__index]\n",
    "\n",
    "lens = len(mfccs_list[0][audio__index])\n",
    "\n",
    "print(np.argmax([HMM_models_library_hmmlearn[i].score(test, lens) for i in range(10)]))\n",
    "\n",
    "print(\"audio file index : 4\")\n",
    "print(f\"True label: 0\")\n",
    "print(f\"Predicted label: {np.argmax([HMM_models_library_hmmlearn[i].score(test, lens) for i in range(10)])}\")\n",
    "print(\"--------------------\")\n",
    "print(\"value of the probablity for each digit :\")\n",
    "for i in range(10):\n",
    "    print(f\"Digit {i}: {HMM_models_library_hmmlearn[i].score(test, lens)}\")\n",
    "    \n"
   ],
   "metadata": {
    "collapsed": false
   }
  },
  {
   "cell_type": "code",
   "execution_count": null,
   "metadata": {
    "collapsed": false
   },
   "outputs": [],
   "source": [
    "# calculates the accuracy , precision , F1 of the HMM models on the test data\n",
    "\n",
    "results = []\n",
    "for i in range(10):\n",
    "    correct = 0\n",
    "    total = 0\n",
    "    for j in range(int((percentage_training-.4)*len(mfccs_list[i])), len(mfccs_list[i])):\n",
    "        test = mfccs_list[i][j]\n",
    "        lens = len(mfccs_list[i][j])\n",
    "        if np.argmax([HMM_models_library_hmmlearn[i].score(test, lens) for i in range(10)]) == i:\n",
    "            correct += 1\n",
    "        total += 1\n",
    "    results.append(correct / total)\n",
    "    \n",
    "    print(f\"Digit {i}: Accuracy = {correct / total:.2f}, Precision = {correct / 50:.2f}, Recall = {correct / 50:.2f}, F1 Score = {(2 * correct / 50) / (correct / total + 1):.2f}\")\n",
    "    \n"
   ]
  },
  {
   "cell_type": "markdown",
   "metadata": {
    "collapsed": false
   },
   "source": [
    "Plot Results that Good Acurecy for each digit:"
   ]
  },
  {
   "cell_type": "code",
   "execution_count": null,
   "metadata": {
    "collapsed": false
   },
   "outputs": [],
   "source": [
    "import matplotlib.pyplot as plt\n",
    "\n",
    "plt.figure(figsize=(5, 2))\n",
    "plt.bar(range(10), results)\n",
    "plt.title(\"Acurecy for each digit\")\n",
    "plt.show()"
   ]
  },
  {
   "cell_type": "code",
   "execution_count": null,
   "outputs": [],
   "source": [
    "#making confusion matrix\n",
    "import seaborn as sns\n",
    "\n",
    "confusion_matrix = np.zeros((10, 10))\n",
    "\n",
    "for i in range(10):\n",
    "    for j in range(int((1-percentage_testing)*len(mfccs_list[i])), len(mfccs_list[i])):\n",
    "        test = mfccs_list[i][j]\n",
    "        lens = len(mfccs_list[i][j])\n",
    "        confusion_matrix[i][np.argmax([HMM_models_library_hmmlearn[i].score(test, lens) for i in range(10)])] += 1\n",
    "    \n",
    "\n",
    "\n",
    "sns.heatmap(confusion_matrix, annot=True, fmt='g', cmap='Blues')\n",
    "plt.xlabel('Predicted labels')\n",
    "plt.ylabel('True labels')\n",
    "plt.title('Confusion Matrix')\n",
    "plt.show()\n"
   ],
   "metadata": {
    "collapsed": false
   }
  },
  {
   "cell_type": "markdown",
   "source": [
    "# Speaker Speech Rocognition with HMMs"
   ],
   "metadata": {
    "collapsed": false
   }
  },
  {
   "cell_type": "code",
   "execution_count": null,
   "outputs": [],
   "source": [
    "import os\n",
    "import numpy as np\n",
    "import librosa\n",
    "\n",
    "base_audio_dir = \"recordings\"\n",
    "mfccs_list_speaker =  [[], [], [], [], [], []]\n",
    "\n",
    "\n",
    "files = os.listdir(base_audio_dir)\n",
    "files = sorted(files)\n",
    "index = 0\n",
    "for i in range(num_of_numbers):\n",
    "    index = 0\n",
    "\n",
    "    for file in files[i*300:(i+1)*300]:\n",
    "        index +=1\n",
    "            \n",
    "        audio_file = os.path.join(base_audio_dir, file)\n",
    "        y, sr = librosa.load(audio_file)\n",
    "        non_silent_intervals = librosa.effects.split(y, top_db=30)\n",
    "        for interval in non_silent_intervals:\n",
    "            mfccs = librosa.feature.mfcc(y=y[interval[0]:interval[1]], sr=sr, n_mfcc=13)\n",
    "            if index != 300:\n",
    "                mfccs_list_speaker[index//50].append(mfccs.T)\n",
    "            else:\n",
    "                mfccs_list_speaker[index//50 - 1].append(mfccs.T)\n",
    "    \n",
    "            print(file)\n",
    "        # print(len(mfccs_list_speaker[0]))\n",
    "            \n",
    "            \n"
   ],
   "metadata": {
    "collapsed": false
   }
  },
  {
   "cell_type": "code",
   "execution_count": null,
   "outputs": [],
   "source": [
    "print(len(mfccs_list_speaker[1]))"
   ],
   "metadata": {
    "collapsed": false
   }
  },
  {
   "cell_type": "code",
   "execution_count": null,
   "outputs": [],
   "source": [
    "HMM_models_library_hmmlearn = []\n",
    "\n",
    "for i in range(6):\n",
    "    # Correct variable reference for mfccs_list_speaker and ensure correct slicing for training data\n",
    "    training_data = mfccs_list_speaker[i][:int(percentage_training * len(mfccs_list_speaker[i]))]\n",
    "    lengths = [len(mfcc) for mfcc in training_data]\n",
    "    X_concatenated = np.concatenate(training_data)\n",
    "    \n",
    "    # Ensure the model is correctly initialized (make sure all necessary hmmlearn imports are done)\n",
    "    model = hmm.GaussianHMM(n_components=num_hidden_states, covariance_type=covar_type, n_iter=num_iterations )\n",
    "    model.fit(X_concatenated, lengths=lengths)  # Pass the corrected lengths array\n",
    "    HMM_models_library_hmmlearn.append(model)\n",
    "    \n",
    "    \n",
    "\n",
    "\n"
   ],
   "metadata": {
    "collapsed": false
   }
  },
  {
   "cell_type": "code",
   "execution_count": null,
   "outputs": [],
   "source": [
    "# Testing the HMM models on the test data and calculating accuracy, precision, recall, and F1 score\n",
    "\n",
    "results = []\n",
    "\n",
    "for i in range(6):\n",
    "    testing_data = mfccs_list_speaker[i][int(percentage_training * len(mfccs_list_speaker[i])):]\n",
    "    print(i)\n",
    "    correct = 0\n",
    "    total = 0\n",
    "    for j in range(len(testing_data)):\n",
    "        test = testing_data[j]\n",
    "        lens = len(testing_data[j])\n",
    "        if np.argmax([HMM_models_library_hmmlearn[i].score(test, lens) for i in range(6)]) == i:\n",
    "            correct += 1\n",
    "        total += 1\n",
    "    print(f\"Speaker {i}: Accuracy = {correct / total:.2f}, Precision = {correct / 50:.2f}, Recall = {correct / 50:.2f}, F1 Score = {(2 * correct / 50) / (correct / total + 1):.2f}\")\n",
    "    "
   ],
   "metadata": {
    "collapsed": false
   }
  },
  {
   "cell_type": "code",
   "execution_count": null,
   "outputs": [],
   "source": [
    "# confusion matrix\n",
    "import seaborn as sns\n",
    "\n",
    "confusion_matrix = np.zeros((6, 6))\n",
    "\n",
    "\n",
    "for i in range(6):\n",
    "    for j in range(int((1-percentage_testing)*len(mfccs_list_speaker[i])), len(mfccs_list_speaker[i])):\n",
    "        test = mfccs_list_speaker[i][j]\n",
    "        lens = len(mfccs_list_speaker[i][j])\n",
    "        confusion_matrix[i][np.argmax([HMM_models_library_hmmlearn[i].score(test, lens) for i in range(6)])] += 1\n",
    "sns.heatmap(confusion_matrix, annot=True, fmt='g', cmap='Blues')\n",
    "plt.xlabel('Predicted labels')\n",
    "plt.ylabel('True labels')\n",
    "plt.title('Confusion Matrix')\n",
    "plt.show()"
   ],
   "metadata": {
    "collapsed": false
   }
  },
  {
   "cell_type": "markdown",
   "source": [
    "in this we can see that we have good acurecy for speaker ."
   ],
   "metadata": {
    "collapsed": false
   }
  },
  {
   "cell_type": "markdown",
   "source": [
    "# Part 2 :\n",
    "\n",
    "Implement HMM model with python Class  \n",
    "\n",
    "for the part that EM step for covariance we can implement it by relating it to that observation matrix that we have on training process.\n",
    "\n",
    "- we implement covariance by this code :\n",
    "        expected_covariances = np.zeros((self.num_dimensions, self.num_dimensions, self.num_hidden_states))\n",
    "        for s in range(self.num_hidden_states):\n",
    "            gamma_obs = np.dot(gamma[s, :], obs.T) / gamma_state_sum[s]\n",
    "            expected_mean[:, s] = gamma_obs\n",
    "            obs_centered = obs - expected_mean[:, s, None]\n",
    "            weighted_obs = obs_centered * gamma[s, :]\n",
    "            expected_covariances[:, :, s] = np.dot(weighted_obs, obs_centered.T) / gamma_state_sum[s]\n",
    "            expected_covariances[:, :, s] += .01 * np.eye(self.num_dimensions)\n",
    "    \n",
    "        self.initial_prob = expected_prior.reshape(-1, 1)\n",
    "        self.mean = expected_mean\n",
    "        self.covariances = expected_covariances\n",
    "        self.transition_matrix = expected_transition\n",
    "        \n",
    "\n",
    "becuase in defult we have covariance that was not relative to the observation matrix that we have on training process.\n",
    "\n",
    "\n",
    "\n"
   ],
   "metadata": {
    "collapsed": false
   }
  },
  {
   "cell_type": "code",
   "execution_count": null,
   "metadata": {},
   "outputs": [],
   "source": [
    "from scipy.stats import multivariate_normal\n",
    "\n",
    "\n",
    "class HMM:\n",
    "    def __init__(self, num_hidden_states):\n",
    "        self.num_hidden_states = num_hidden_states\n",
    "        self.rand_state = np.random.RandomState(1)\n",
    "\n",
    "        self.initial_prob = self._normalize(self.rand_state.rand(self.num_hidden_states, 1))\n",
    "        self.transition_matrix = self._stochasticize(self.rand_state.rand(self.num_hidden_states, self.num_hidden_states))\n",
    "\n",
    "        self.mean = None\n",
    "        self.covariances = None\n",
    "        self.num_dimensions = None\n",
    "\n",
    "    def _forward(self, observation_matrix):\n",
    "        log_likelihood = 0.\n",
    "        T = observation_matrix.shape[1]\n",
    "        alpha = np.zeros(observation_matrix.shape)\n",
    "\n",
    "        for t in range(T):\n",
    "            if t == 0:\n",
    "                alpha[:, t] = self.initial_prob.flatten() * observation_matrix[:, t]\n",
    "            else:\n",
    "                for i in range(self.num_hidden_states):\n",
    "                    alpha[i, t] = observation_matrix[i, t] * np.dot(alpha[:, t-1], self.transition_matrix[:, i])\n",
    "\n",
    "            alpha_sum = np.sum(alpha[:, t])\n",
    "            alpha[:, t] /= alpha_sum\n",
    "            log_likelihood += np.log(alpha_sum)\n",
    "\n",
    "        return log_likelihood, alpha\n",
    "\n",
    "    def _backward(self, observation_matrix):\n",
    "        T = observation_matrix.shape[1]\n",
    "        beta = np.zeros(observation_matrix.shape)\n",
    "    \n",
    "        beta[:, -1] = 1\n",
    "        for t in range(T - 2, -1, -1):\n",
    "            for i in range(self.num_hidden_states):\n",
    "                beta[i, t] = np.sum(self.transition_matrix[i, :] * observation_matrix[:, t+1] * beta[:, t+1])\n",
    "            beta[:, t] /= np.sum(beta[:, t])\n",
    "        return beta\n",
    "\n",
    "\n",
    "    def _state_likelihood(self, obs):\n",
    "        B = np.zeros((self.num_hidden_states, obs.shape[1]))\n",
    "    \n",
    "        for s in range(self.num_hidden_states):\n",
    "            state_likelihoods = multivariate_normal.pdf(obs.T, mean=self.mean[:, s], cov=self.covariances[:, :, s])\n",
    "            B[s, :] = state_likelihoods\n",
    "    \n",
    "        return B\n",
    "\n",
    "    def _normalize(self, x):\n",
    "        return (x + (x == 0)) / np.sum(x)\n",
    "\n",
    "    def _stochasticize(self, x):\n",
    "        return (x + (x == 0)) / np.sum(x, axis=1)\n",
    "\n",
    "    def _em_init(self, obs):\n",
    "        if self.num_dimensions is None:\n",
    "            self.num_dimensions = obs.shape[0]\n",
    "        if self.mean is None:\n",
    "            subset = self.rand_state.choice(np.arange(obs.shape[1]), size=self.num_hidden_states,replace=False)\n",
    "            print(subset , obs.shape)\n",
    "            self.mean = obs[:, subset]\n",
    "        if self.covariances is None:\n",
    "            self.covariances = np.zeros((self.num_dimensions, self.num_dimensions, self.num_hidden_states))\n",
    "            self.covariances += np.diag(np.diag(np.cov(obs)))[:, :, None]\n",
    "\n",
    "        return self\n",
    "\n",
    "    def _em_step(self, obs):\n",
    "        obs = np.atleast_2d(obs)\n",
    "        T = obs.shape[1]\n",
    "    \n",
    "        B = self._state_likelihood(obs)\n",
    "    \n",
    "        log_likelihood, alpha = self._forward(B)\n",
    "        beta = self._backward(B)\n",
    "    \n",
    "        xi_sum = np.zeros((self.num_hidden_states, self.num_hidden_states))\n",
    "        gamma = np.zeros((self.num_hidden_states, T))\n",
    "    \n",
    "        for t in range(T - 1):\n",
    "            for i in range(self.num_hidden_states):\n",
    "                for j in range(self.num_hidden_states):\n",
    "                    xi_sum[i, j] += alpha[i, t] * beta[j, t + 1] * self.transition_matrix[i, j] * B[j, t + 1]\n",
    "            gamma[:, t] = alpha[:, t] * beta[:, t] / np.sum(alpha[:, t] * beta[:, t])\n",
    "    \n",
    "        gamma[:, -1] = alpha[:, -1] * beta[:, -1] / np.sum(alpha[:, -1] * beta[:, -1])\n",
    "    \n",
    "        expected_prior = gamma[:, 0]\n",
    "        expected_transition = self._stochasticize(xi_sum)\n",
    "    \n",
    "        gamma_state_sum = np.sum(gamma, axis=1)\n",
    "        \n",
    "        expected_mean = np.zeros((self.num_dimensions, self.num_hidden_states))\n",
    "        expected_covariances = np.zeros((self.num_dimensions, self.num_dimensions, self.num_hidden_states))\n",
    "        for s in range(self.num_hidden_states):\n",
    "            gamma_obs = np.dot(gamma[s, :], obs.T) / gamma_state_sum[s]\n",
    "            expected_mean[:, s] = gamma_obs\n",
    "            obs_centered = obs - expected_mean[:, s, None]\n",
    "            weighted_obs = obs_centered * gamma[s, :]\n",
    "            expected_covariances[:, :, s] = np.dot(weighted_obs, obs_centered.T) / gamma_state_sum[s]\n",
    "            expected_covariances[:, :, s] += .01 * np.eye(self.num_dimensions)\n",
    "    \n",
    "        self.initial_prob = expected_prior.reshape(-1, 1)\n",
    "        self.mean = expected_mean\n",
    "        self.covariances = expected_covariances\n",
    "        self.transition_matrix = expected_transition\n",
    "    \n",
    "        return log_likelihood\n",
    "\n",
    "\n",
    "\n",
    "    def train(self, obs, num_iterations=1):\n",
    "        for i in range(num_iterations):\n",
    "            self._em_init(obs)\n",
    "            self._em_step(obs)\n",
    "        return self\n",
    "\n",
    "    def score(self, obs):\n",
    "        B = self._state_likelihood(obs)\n",
    "        log_likelihood, _ = self._forward(B)\n",
    "        return log_likelihood\n"
   ]
  },
  {
   "cell_type": "raw",
   "source": [
    "Randomly initialize the parameters of the HMM model and train it on the MFCCs of the audio files for digit 0."
   ],
   "metadata": {
    "collapsed": false
   }
  },
  {
   "cell_type": "code",
   "execution_count": null,
   "outputs": [],
   "source": [
    "import numpy as np\n",
    "\n",
    "observations = np.random.rand(44, 100) \n",
    "\n",
    "num_hidden_states = 10  \n",
    "hmm = HMM(num_hidden_states)\n",
    "print(hmm.initial_prob)\n",
    "hmm.train(observations, num_iterations=10)"
   ],
   "metadata": {
    "collapsed": false
   }
  },
  {
   "cell_type": "code",
   "execution_count": null,
   "outputs": [],
   "source": [
    "print(hmm.mean)"
   ],
   "metadata": {
    "collapsed": false
   }
  },
  {
   "cell_type": "code",
   "execution_count": null,
   "outputs": [],
   "source": [
    "print(observations.shape)"
   ],
   "metadata": {
    "collapsed": false
   }
  },
  {
   "cell_type": "code",
   "execution_count": null,
   "outputs": [],
   "source": [
    "# print(observations)\n",
    "new_obs = observations[:, 0:10]\n",
    "new_obs_1 = observations[:, 10:20]\n",
    "new_obs_2 = observations[:, 20:30]\n",
    "\n",
    "\n",
    "print(new_obs.shape)"
   ],
   "metadata": {
    "collapsed": false
   }
  },
  {
   "cell_type": "code",
   "execution_count": null,
   "metadata": {
    "collapsed": false
   },
   "outputs": [],
   "source": [
    "# Score the model with the same observations\n",
    "log_likelihood = hmm.score(observations)\n",
    "\n",
    "# change that and see defrence \n",
    "\n",
    "log_likelihood_c = hmm.score(new_obs )\n",
    "print(\"Log Likelihood of observed sequences: \", log_likelihood)\n",
    "\n",
    "\n",
    "log_likelihood_c = hmm.score(new_obs )\n",
    "print(\"Log Likelihood of observed sequences: \", log_likelihood_c)\n",
    "\n",
    "log_likelihood_c = hmm.score(new_obs_1 )\n",
    "print(\"Log Likelihood of observed sequences: \", log_likelihood_c)\n",
    "\n",
    "\n",
    "\n",
    "\n"
   ]
  },
  {
   "cell_type": "markdown",
   "source": [
    "# Train HMM models for all digits using the MFCCs of the audio files with num_hidden_states = 6"
   ],
   "metadata": {
    "collapsed": false
   }
  },
  {
   "cell_type": "code",
   "execution_count": null,
   "outputs": [],
   "source": [
    "hmm_models = []\n",
    "\n",
    "for i in range(10):\n",
    "    hmm_model = HMM(num_hidden_states=num_hidden_states)\n",
    "    X_concatenated = np.concatenate(mfccs_list[i][0:int(percentage_training*len(mfccs_list[i]))])\n",
    "    X_concatenated = X_concatenated.T\n",
    "    hmm_model.train(X_concatenated, num_iterations=1)\n",
    "    hmm_models.append(hmm_model)"
   ],
   "metadata": {
    "collapsed": false
   }
  },
  {
   "cell_type": "code",
   "execution_count": null,
   "outputs": [],
   "source": [],
   "metadata": {
    "collapsed": false
   }
  },
  {
   "cell_type": "markdown",
   "source": [
    "# Test the HMM models on the MFCCs of the audio files for all digits"
   ],
   "metadata": {
    "collapsed": false
   }
  },
  {
   "cell_type": "code",
   "execution_count": null,
   "metadata": {
    "collapsed": false
   },
   "outputs": [],
   "source": [
    "print(hmm_model.mean.shape)"
   ]
  },
  {
   "cell_type": "code",
   "execution_count": 222,
   "metadata": {
    "collapsed": false
   },
   "outputs": [
    {
     "name": "stdout",
     "output_type": "stream",
     "text": [
      "Digit 4: Accuracy = 0.79, Precision = 2.86, Recall = 2.86, F1 Score = 3.20\n",
      "Digit 5: Accuracy = 0.87, Precision = 3.24, Recall = 3.24, F1 Score = 3.46\n",
      "Digit 6: Accuracy = 0.71, Precision = 2.64, Recall = 2.64, F1 Score = 3.08\n",
      "Digit 7: Accuracy = 0.81, Precision = 2.98, Recall = 2.98, F1 Score = 3.29\n",
      "Digit 8: Accuracy = 0.97, Precision = 3.74, Recall = 3.74, F1 Score = 3.79\n",
      "Digit 9: Accuracy = 0.71, Precision = 2.58, Recall = 2.58, F1 Score = 3.01\n"
     ]
    }
   ],
   "source": [
    "hmm_results = []\n",
    "\n",
    "for i in range(10):\n",
    "    correct = 0\n",
    "    total = 0\n",
    "    testing_data = mfccs_list[i][int((percentage_training-.4)*len(mfccs_list[i])):]\n",
    "    for j in range(len(testing_data)):\n",
    "        test = testing_data[j]\n",
    "        test = test.T\n",
    "        if np.argmax([hmm_models[i].score(test) for i in range(10)]) == i:\n",
    "            correct += 1\n",
    "        total += 1\n",
    "        \n",
    "    hmm_results.append(correct / total)\n",
    "    print(f\"Digit {i}: Accuracy = {correct / total:.2f}, Precision = {correct / 50:.2f}, Recall = {correct / 50:.2f}, F1 Score = {(2 * correct / 50) / (correct / total + 1):.2f}\")\n",
    "    \n"
   ]
  },
  {
   "cell_type": "code",
   "execution_count": 223,
   "metadata": {
    "collapsed": false,
    "ExecuteTime": {
     "end_time": "2024-04-09T09:13:34.628039Z",
     "start_time": "2024-04-09T09:13:34.473060Z"
    }
   },
   "outputs": [
    {
     "data": {
      "text/plain": "<Figure size 500x200 with 1 Axes>",
      "image/png": "[encoded data removed]"
     },
     "metadata": {},
     "output_type": "display_data"
    }
   ],
   "source": [
    "# Plot the results\n",
    "\n",
    "import matplotlib.pyplot as plt\n",
    "\n",
    "plt.figure(figsize=(5, 2))\n",
    "plt.bar(range(10), hmm_results)\n",
    "plt.title(\"HMM Results\")\n",
    "plt.show()\n",
    "\n"
   ]
  },
  {
   "cell_type": "markdown",
   "source": [
    "# Confusion Matrix for HMM models for digits 0 to 9"
   ],
   "metadata": {
    "collapsed": false
   }
  },
  {
   "cell_type": "code",
   "execution_count": 224,
   "outputs": [
    {
     "name": "stderr",
     "output_type": "stream",
     "text": [
      "/var/folders/cg/l2rdx46d6lv3b5xc17b420yc0000gn/T/ipykernel_59934/1476441396.py:29: RuntimeWarning: invalid value encountered in divide\n",
      "  alpha[:, t] /= alpha_sum\n",
      "/var/folders/cg/l2rdx46d6lv3b5xc17b420yc0000gn/T/ipykernel_59934/1476441396.py:30: RuntimeWarning: divide by zero encountered in log\n",
      "  log_likelihood += np.log(alpha_sum)\n"
     ]
    },
    {
     "data": {
      "text/plain": "<Figure size 640x480 with 2 Axes>",
      "image/png": "[encoded data removed]"
     },
     "metadata": {},
     "output_type": "display_data"
    }
   ],
   "source": [
    "\n",
    "confusion_matrix = np.zeros((10, 10))\n",
    "\n",
    "for i in range(10):\n",
    "    for j in range(int((percentage_training-.4)*len(mfccs_list[i])), len(mfccs_list[i])):\n",
    "        test = mfccs_list[i][j]\n",
    "        test = test.T\n",
    "        confusion_matrix[i][np.argmax([hmm_models[i].score(test) for i in range(10)])] += 1\n",
    "\n",
    "sns.heatmap(confusion_matrix, annot=True, fmt='g', cmap='Blues')\n",
    "plt.xlabel('Predicted labels')\n",
    "plt.ylabel('True labels')\n",
    "plt.title('Confusion Matrix')\n",
    "plt.show()\n"
   ],
   "metadata": {
    "collapsed": false,
    "ExecuteTime": {
     "end_time": "2024-04-09T09:14:08.314450Z",
     "start_time": "2024-04-09T09:13:34.635208Z"
    }
   }
  },
  {
   "cell_type": "markdown",
   "source": [
    "we can see that for some digits we have more accuracy than others and that is because of i think quality of the audio files that we have for each digit or just random."
   ],
   "metadata": {
    "collapsed": false
   }
  },
  {
   "cell_type": "markdown",
   "source": [
    "# plot confusion matrix for speaker recognition"
   ],
   "metadata": {
    "collapsed": false
   }
  },
  {
   "cell_type": "code",
   "execution_count": 225,
   "outputs": [
    {
     "name": "stdout",
     "output_type": "stream",
     "text": [
      "[1165  641  428  258 1180   56] (13, 2061)\n",
      "[ 397 1929 1766  959 1654 2331] (13, 2338)\n",
      "[1347  508  887  650  102 1219] (13, 1806)\n",
      "[ 725 1564 1422 1145 1084   65] (13, 2174)\n",
      "[1409  627 1645 1274 1194  415] (13, 2109)\n",
      "[1469  969  623  227 1569 1550] (13, 1739)\n"
     ]
    },
    {
     "name": "stderr",
     "output_type": "stream",
     "text": [
      "/var/folders/cg/l2rdx46d6lv3b5xc17b420yc0000gn/T/ipykernel_59934/1476441396.py:29: RuntimeWarning: invalid value encountered in divide\n",
      "  alpha[:, t] /= alpha_sum\n",
      "/var/folders/cg/l2rdx46d6lv3b5xc17b420yc0000gn/T/ipykernel_59934/1476441396.py:30: RuntimeWarning: divide by zero encountered in log\n",
      "  log_likelihood += np.log(alpha_sum)\n"
     ]
    },
    {
     "data": {
      "text/plain": "<Figure size 640x480 with 2 Axes>",
      "image/png": "[encoded data removed]"
     },
     "metadata": {},
     "output_type": "display_data"
    }
   ],
   "source": [
    "import os\n",
    "import numpy as np\n",
    "import librosa\n",
    "import matplotlib.pyplot as plt\n",
    "import seaborn as sns\n",
    "hmm_models_class_speaker = []\n",
    "\n",
    "for i in range(6):\n",
    "    hmm_model = HMM(num_hidden_states=6)\n",
    "    testing_data = mfccs_list_speaker[i][int(percentage_training * len(mfccs_list_speaker[i])):]\n",
    "    X_concatenated = np.concatenate(testing_data)\n",
    "    X_concatenated = X_concatenated.T\n",
    "    hmm_model.train(X_concatenated, num_iterations=3)\n",
    "    hmm_models_class_speaker.append(hmm_model)\n",
    "    \n",
    "\n",
    "confusion_matrix = np.zeros((6, 6))\n",
    "\n",
    "for i in range(6):\n",
    "    for j in range(int((1-percentage_testing)*len(mfccs_list_speaker[i])), len(mfccs_list_speaker[i])):\n",
    "        test = mfccs_list_speaker[i][j]\n",
    "        test = test.T\n",
    "        confusion_matrix[i][np.argmax([hmm_models_class_speaker[i].score(test) for i in range(6)])] += 1\n",
    "        \n",
    "    \n",
    "sns.heatmap(confusion_matrix, annot=True, fmt='g', cmap='Blues')\n",
    "plt.xlabel('Predicted labels')\n",
    "plt.ylabel('True labels')\n",
    "plt.title('Confusion Matrix')\n",
    "    \n",
    "plt.show()\n"
   ],
   "metadata": {
    "collapsed": false,
    "ExecuteTime": {
     "end_time": "2024-04-09T09:14:19.284977Z",
     "start_time": "2024-04-09T09:14:08.312050Z"
    }
   }
  },
  {
   "cell_type": "code",
   "execution_count": 226,
   "outputs": [
    {
     "name": "stderr",
     "output_type": "stream",
     "text": [
      "/var/folders/cg/l2rdx46d6lv3b5xc17b420yc0000gn/T/ipykernel_59934/1476441396.py:29: RuntimeWarning: invalid value encountered in divide\n",
      "  alpha[:, t] /= alpha_sum\n",
      "/var/folders/cg/l2rdx46d6lv3b5xc17b420yc0000gn/T/ipykernel_59934/1476441396.py:30: RuntimeWarning: divide by zero encountered in log\n",
      "  log_likelihood += np.log(alpha_sum)\n"
     ]
    },
    {
     "name": "stdout",
     "output_type": "stream",
     "text": [
      "Speaker 0: Accuracy = 0.96, Precision = 1.92, Recall = 1.92, F1 Score = 1.96\n",
      "Speaker 1: Accuracy = 0.97, Precision = 1.96, Recall = 1.96, F1 Score = 1.99\n",
      "Speaker 2: Accuracy = 0.95, Precision = 1.98, Recall = 1.98, F1 Score = 2.03\n",
      "Speaker 3: Accuracy = 0.98, Precision = 1.96, Recall = 1.96, F1 Score = 1.98\n",
      "Speaker 4: Accuracy = 0.98, Precision = 2.02, Recall = 2.02, F1 Score = 2.04\n",
      "Speaker 5: Accuracy = 0.97, Precision = 2.02, Recall = 2.02, F1 Score = 2.05\n"
     ]
    }
   ],
   "source": [
    "# percentage of accuracy for each speaker\n",
    "results = []\n",
    "\n",
    "for i in range(6):\n",
    "    correct = 0\n",
    "    total = 0\n",
    "    testing_data = mfccs_list_speaker[i][int(percentage_training * len(mfccs_list_speaker[i])):]\n",
    "    for j in range(len(testing_data)):\n",
    "        test = testing_data[j]\n",
    "        test = test.T\n",
    "        if np.argmax([hmm_models_class_speaker[i].score(test) for i in range(6)]) == i:\n",
    "            correct += 1\n",
    "        total += 1\n",
    "    results.append(correct / total)\n",
    "    print(f\"Speaker {i}: Accuracy = {correct / total:.2f}, Precision = {correct / 50:.2f}, Recall = {correct / 50:.2f}, F1 Score = {(2 * correct / 50) / (correct / total + 1):.2f}\")"
   ],
   "metadata": {
    "collapsed": false,
    "ExecuteTime": {
     "end_time": "2024-04-09T09:14:23.569821Z",
     "start_time": "2024-04-09T09:14:19.289031Z"
    }
   }
  },
  {
   "cell_type": "markdown",
   "source": [
    "we can see that for some speakers we have more accuracy than others and that is because of i think quality of the audio files that we have for each speaker or just random.\n",
    "but we set parameter to 6 and we can see that we have good results for that."
   ],
   "metadata": {
    "collapsed": false
   }
  },
  {
   "cell_type": "markdown",
   "metadata": {
    "collapsed": false
   },
   "source": []
  },
  {
   "cell_type": "markdown",
   "metadata": {
    "collapsed": false
   },
   "source": [
    "# Evaluatoin and Analysis\n",
    "\n",
    "\n",
    "Q1. Research each of the above criteria and explain how each is calculated and what it represents.\n",
    "\n",
    "Answer :\n",
    "1. Accuracy: Accuracy is a measure of the overall correctness of the model's predictions. It is calculated as the ratio of the number of correct predictions to the total number of predictions made by the model. Accuracy provides a general sense of how well the model performs across all classes.\n",
    "2. Precision: Precision is a measure of the correctness of positive predictions made by the model. It is calculated as the ratio of true positive predictions to the sum of true positive and false positive predictions. Precision is important in scenarios where the cost of a false positive is high.\n",
    "\n",
    "\n",
    "\n",
    "To evaluate the performance of machine learning models, especially in classification tasks, several metrics are used, each highlighting different aspects of the model's performance. Here's a brief overview of the metrics you mentioned:\n",
    "1. Accuracy\n",
    "Definition: Accuracy is the simplest metric for evaluating classification models. It measures the proportion of correct predictions (both true positives and true negatives) among the total number of cases examined.\n",
    "Calculation: \n",
    "\n",
    "Accuracy = (TP + TN) / (TP + TN + FP + FN)\n",
    "where:\n",
    "\n",
    "2. Precision\n",
    "Definition: Precision measures the proportion of positive identifications that were actually correct. It is a key metric when the cost of a false positive is high.\n",
    "Calculation:  \n",
    "\n",
    "Precision = TP / (TP + FP)\n",
    "\n",
    "\n",
    "3. Recall (Sensitivity)\n",
    "Definition: Recall, also known as sensitivity or true positive rate, measures the proportion of actual positives that were correctly identified by the model. It is a key metric when the cost of a false negative is high.\n",
    "\n",
    "Calculation:\n",
    "\n",
    "Recall = TP / (TP + FN)\n",
    "\n",
    "\n",
    "4. F1 Score\n",
    "Definition: The F1 score is the harmonic mean of precision and recall. It provides a single metric that balances both precision and recall, making it useful for comparing models across different thresholds.\n",
    "\n",
    "Calculation:\n",
    "\n",
    "F1 Score = 2 * (Precision * Recall) / (Precision + Recall)\n",
    " \n",
    "\n",
    "\n",
    "NOTE :\n",
    "TP -> True Positive\n",
    "TN -> True Negative\n",
    "FP -> False Positive\n",
    "FN -> False Negative\n",
    "\n",
    "Some more details : \n",
    "Is accuracy the best measure? Accuracy is a good measure when the classes are balanced, but it can be misleading in imbalanced datasets. For example, in a dataset where the positive class is rare, a model that predicts only the majority class can achieve high accuracy without actually performing well. In such cases, precision, recall, and F1 score can provide a more nuanced evaluation of the model's performance.\n",
    "\n",
    "- Q2. Is there a challenge in calculating the mentioned criteria for this project which is multi-class? If yes, what solution do you have for it?\n",
    "\n",
    "Multi-class classification is a common machine learning task where you need to assign one of several possible labels to an input. There a little maybe :) difficulty in making confusion matrix because there are 10 labels for speakers. and calculating accuracy, F1 and ... maybe difficult. But at all, They can be solved and their code can be written.\n",
    "\n",
    "- Q3. Explain how each of the criteria evaluates the model ?\n",
    "\n",
    "Answer :\n",
    "1. Accuracy: Accuracy evaluates the overall correctness of the model's predictions by comparing the number of correct predictions to the total number of predictions made. It provides a general measure of the model's performance across all classes.\n",
    "2. Precision: Precision evaluates the correctness of positive predictions made by the model. It measures the proportion of true positive predictions among all positive predictions. Precision is important in scenarios where the cost of a false positive is high.\n",
    "3. Recall (Sensitivity): Recall evaluates the model's ability to identify all actual positives. It measures the proportion of true positive predictions among all actual positive instances. Recall is critical in situations where missing a positive instance is costly.\n",
    "4. F1 Score: The F1 score balances precision and recall in a single metric by taking their harmonic mean. It provides a measure of the model's accuracy that considers both false positives and false negatives. The F1 score is useful when you need to balance the importance of precision and recall, especially in imbalanced datasets or when you care equally about false positives and false negatives.\n",
    "\n",
    "- Q4 :Decribe differenccess between Precision and Recall ?\n",
    "\n",
    "\n",
    ". Recall (Sensitivity) measures the model's ability to correctly identify all actual positives from the data. It calculates the proportion of true positives against the sum of true positives and false negatives (conditions that were actually positive but missed by the model).\n",
    "\n",
    ". Precision measures the accuracy of positive predictions made by the model. It calculates the proportion of true positives against the sum of true positives and false positives (conditions incorrectly identified as positive by the model).\n",
    "\n",
    "for when we have a model that FN and FP of that is diffrent betteer to use F1 score that is harmonic mean of Recall and Precision.\n",
    "\n",
    "\n",
    "- Q5 : What kind of averaging does the F1-score criterion use? What is the difference between this type of averaging and normal averaging and why is it important here?\n",
    "\n",
    "Answer : The F1 score criterion uses the harmonic mean for averaging precision and recall. The harmonic mean is calculated as the reciprocal of the arithmetic mean of the reciprocals of the values. This type of averaging is important for the F1 score because it gives more weight to lower values, making it sensitive to imbalances between precision and recall.\n",
    "\n",
    "In contrast, normal averaging (arithmetic mean) treats all values equally and can be skewed by outliers or extreme values. For the F1 score, the harmonic mean ensures that both precision and recall are considered equally, providing a balanced evaluation of the model's performance.\n",
    "\n",
    "we do number 6 and 7 in the next code cell\n",
    "\n",
    "\n",
    "- Q8 : Investigate the differences between the results of Q6 and Q7 and specify them.\n",
    "\n",
    "Answer :: I think that they dont have big difference .\n",
    "\n",
    "\n"
   ]
  },
  {
   "cell_type": "markdown",
   "metadata": {
    "collapsed": false
   },
   "source": [
    "Each of the performance metrics evaluates models in distinct ways, focusing on different aspects of the model's predictions:\n",
    "\n",
    "1. Accuracy\n",
    "Evaluates: Accuracy measures the overall correctness of the model across all classes. It provides a general sense of how often the model makes the right prediction.\n",
    "Use Case: Best used when the class distributions are fairly even. Less useful in imbalanced datasets where it can give a misleadingly high score to models that simply predict the majority class.\n",
    "\n",
    "\n",
    "2. Precision\n",
    "Evaluates: Precision focuses on the correctness of positive predictions. It assesses the model's ability to identify only relevant instances.\n",
    "Use Case: Important in scenarios where the cost of a false positive is high, such as in spam detection or disease screening, where falsely identifying something as positive can have serious consequences.\n",
    "\n",
    "\n",
    "3. Recall (Sensitivity)\n",
    "Evaluates: Recall measures the model's ability to identify all actual positives. It reflects how many of the true positives the model captures by labeling them as positive.\n",
    "Use Case: Critical in situations where missing a positive instance is costly, like fraud detection or diagnosing a serious disease. High recall is important even if it results in more false positives.\n",
    "\n",
    "\n",
    "4. F1 Score\n",
    "Evaluates: The F1 Score balances precision and recall in a single metric by taking their harmonic mean. It's a measure of the test's accuracy that considers both false positives and false negatives.\n",
    "Use Case: Useful when you need to balance the importance of precision and recall. Particularly valuable in imbalanced datasets or when you care equally about false positives and false negatives.\n",
    "\n",
    "\n",
    "Interpretation:\n",
    "High Precision, Low Recall: The model is very cautious about labeling positives but misses a significant number of actual positives.\n",
    "Low Precision, High Recall: The model labels many instances as positive, catching more actual positives but also making more false positive errors.\n",
    "High Precision and High Recall: The ideal scenario where the model accurately identifies most of the positives without significantly increasing the false positives. This is often a challenging balance to achieve."
   ]
  },
  {
   "cell_type": "code",
   "execution_count": 226,
   "metadata": {
    "collapsed": false,
    "ExecuteTime": {
     "end_time": "2024-04-09T09:14:23.574875Z",
     "start_time": "2024-04-09T09:14:23.570081Z"
    }
   },
   "outputs": [],
   "source": []
  },
  {
   "cell_type": "raw",
   "metadata": {
    "collapsed": false
   },
   "source": [
    "\n",
    "The F1 Score uses the harmonic mean for averaging precision and recall, rather than the arithmetic mean, which is the \"ordinary\" averaging method most people are familiar with. The difference between these two types of averaging and the significance of using the harmonic mean in the context of the F1 Score are noteworthy.\n",
    "\n",
    "Harmonic Mean vs. Arithmetic Mean\n",
    "Arithmetic Mean: This is the most common type of average, calculated by adding a set of values and dividing by the count of those values. For two numbers, it's simply \n",
    "    (a + b) / 2.\n",
    "     . \n",
    "Harmonic Mean: This average is particularly useful when dealing with rates or ratios. For two numbers, it's calculated as \n",
    "    (2*a*b) / (a + b)\n",
    " . The harmonic mean tends to be dominated by the smaller of the two numbers; hence, it's much closer to the smaller number than the arithmetic mean."
   ]
  },
  {
   "cell_type": "markdown",
   "source": [
    "# Refrences:\n",
    "\n",
    "1. https://en.wikipedia.org/wiki/Hidden_Markov_model\n",
    "2. https://medium.com/@tanveer9812/mfccs-made-easy-7ef383006040\n",
    "3. https://medium.com/analytics-vidhya/confusion-matrix-accuracy-precision-recall-f1-score-ade299cf63cd\n",
    "4. https://python.plainenglish.io/audio-segmentation-and-artificial-intelligence-a-harmonious-symphony-f472dd770b97\n",
    "5. https://towardsdatascience.com/how-i-understood-what-features-to-consider-while-training-audio-files-eedfb6e9002b\n",
    "6. https://medium.com/analytics-vidhya/understanding-the-mel-spectrogram-fca2afa2ce53\n",
    "7. https://www.youtube.com/watch?v=wdKldF_g_ow&list=PLAoS0B7BMhxDDEw9mwg4-RQOwjZtUv_gt\n",
    "8.https://dev.to/highcenburg/suppressing-audio-with-python-16o4\n",
    "\n",
    "and some other refrences like chatgpt and stackoverflow and github and some other websites that i used to get some information and code from them."
   ],
   "metadata": {
    "collapsed": false
   }
  },
  {
   "cell_type": "code",
   "execution_count": 226,
   "outputs": [],
   "source": [],
   "metadata": {
    "collapsed": false,
    "ExecuteTime": {
     "end_time": "2024-04-09T09:14:23.591140Z",
     "start_time": "2024-04-09T09:14:23.574774Z"
    }
   }
  }
 ],
 "metadata": {
  "kernelspec": {
   "display_name": "Python 3 (ipykernel)",
   "language": "python",
   "name": "python3"
  },
  "language_info": {
   "codemirror_mode": {
    "name": "ipython",
    "version": 3
   },
   "file_extension": ".py",
   "mimetype": "text/x-python",
   "name": "python",
   "nbconvert_exporter": "python",
   "pygments_lexer": "ipython3",
   "version": "3.11.4"
  }
 },
 "nbformat": 4,
 "nbformat_minor": 4
}
